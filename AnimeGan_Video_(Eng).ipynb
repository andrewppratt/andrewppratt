{
  "nbformat": 4,
  "nbformat_minor": 0,
  "metadata": {
    "colab": {
      "name": "AnimeGan Video (Eng).ipynb",
      "provenance": [],
      "gpuType": "T4",
      "include_colab_link": true
    },
    "kernelspec": {
      "name": "python3",
      "display_name": "Python 3"
    },
    "accelerator": "GPU"
  },
  "cells": [
    {
      "cell_type": "markdown",
      "metadata": {
        "id": "view-in-github",
        "colab_type": "text"
      },
      "source": [
        "<a href=\"https://colab.research.google.com/github/andrewppratt/andrewppratt/blob/main/AnimeGan_Video_(Eng).ipynb\" target=\"_parent\"><img src=\"https://colab.research.google.com/assets/colab-badge.svg\" alt=\"Open In Colab\"/></a>"
      ]
    },
    {
      "cell_type": "markdown",
      "metadata": {
        "id": "tLSLsHwOnXyr"
      },
      "source": [
        "<b><font color=\"black\" size=\"+4\">Video to Anime Converter</font></b>\n",
        "\n",
        "<b><font color=\"black\" size=\"+2\">Based on:</font></b>\n",
        "\n",
        "**GitHub repository**: [AnimeGAN](https://github.com/TachibanaYoshino/AnimeGAN)\n",
        "\n",
        "Creator: **[Tachibana Yoshino](https://github.com/TachibanaYoshino).**\n",
        "\n",
        "<b><font color=\"black\" size=\"+2\">Put it all together:</font></b>\n",
        "\n",
        "GitHub: [@tg-bomze](https://github.com/tg-bomze),\n",
        "Telegram: [@bomze](https://t.me/bomze),\n",
        "Twitter: [@tg_bomze](https://twitter.com/tg_bomze).\n",
        "\n",
        "\n",
        "\n",
        "```\n",
        "Next, click on the buttons (where the red arrow indicates) in each block in turn. After clicking, wait until the execution is complete.\n",
        "```\n",
        "\n",
        "\n",
        "```\n",
        "If there are any errors, uncheck the delete_log box, take a screenshot and contact the author of Colab.\n",
        "```\n",
        "\n",
        "\n",
        "\n"
      ]
    },
    {
      "cell_type": "code",
      "metadata": {
        "id": "MIETFAYBzi7m"
      },
      "source": [
        "#@title <b><font color=\"red\" size=\"+3\">←</font><font color=\"black\" size=\"+3\"> Clone the repository and install all requirements</font></b>\n",
        "!pip install youtube_dl\n",
        "!pip install ffmpeg\n",
        "import imageio\n",
        "import numpy as np\n",
        "import matplotlib.pyplot as plt\n",
        "import matplotlib.animation as animation\n",
        "from IPython.display import clear_output\n",
        "import youtube_dl\n",
        "import io\n",
        "import base64\n",
        "import os\n",
        "import cv2\n",
        "from google.colab import files\n",
        "%matplotlib inline\n",
        "\n",
        "%tensorflow_version 2.x\n",
        "!git clone  https://github.com/TachibanaYoshino/AnimeGAN.git\n",
        "%cd AnimeGAN\n",
        "!wget https://github.com/TachibanaYoshino/AnimeGAN/releases/download/vgg16%2F19.npy/vgg19.npy\n",
        "!wget https://github.com/TachibanaYoshino/AnimeGAN/releases/download/Haoyao-style_V1.0/Haoyao-style.zip\n",
        "!unzip /content/AnimeGAN/Haoyao-style.zip -d pppoint\n",
        "!rm /content/AnimeGAN/Haoyao-style.zip\n",
        "!cp /content/AnimeGAN/vgg19.npy /content/AnimeGAN/vgg19_weight\n",
        "!rm /content/AnimeGAN/vgg19.npy\n",
        "!mkdir img\n",
        "\n",
        "delete_log = True #@param {type:\"boolean\"}\n",
        "if delete_log == True: clear_output()"
      ],
      "execution_count": 1,
      "outputs": []
    },
    {
      "cell_type": "code",
      "metadata": {
        "id": "4stFInt5o1-q",
        "cellView": "form"
      },
      "source": [
        "#@title <b><font color=\"red\" size=\"+3\">←</font><font color=\"black\" size=\"+3\"> Upload video in mp4</font></b>\n",
        "\n",
        "#@markdown *Enter a link to the video below (for example, YouTube or Twitter), or leave the source_url field blank (in this case, you will be asked to upload the video from your computer).*\n",
        "\n",
        "#@markdown *Tests were conducted on videos up to 1 minute long. It is likely that long videos can lead to errors.*\n",
        "source_url = '' #@param {type:\"string\"}\n",
        "\n",
        "if source_url == '':\n",
        "  uploaded = files.upload()\n",
        "  for fn in uploaded.keys():\n",
        "    print('User uploaded file \"{name}\" with length {length} bytes'.format(\n",
        "        name=fn, length=len(uploaded[fn])))\n",
        "  file_name = \"downloaded_video.\" + fn.split(\".\")[-1]\n",
        "  !mv -f $fn $file_name\n",
        "\n",
        "else:\n",
        "  try:\n",
        "    ydl_opts = {\n",
        "        'format': 'bestvideo[ext=mp4]+bestaudio[ext=m4a]/mp4',\n",
        "        'outtmpl': 'downloaded_video.mp4',\n",
        "        }\n",
        "    with youtube_dl.YoutubeDL(ydl_opts) as ydl:\n",
        "      ydl.download([source_url])\n",
        "    file_name = 'downloaded_video.mp4'\n",
        "\n",
        "  except BaseException:\n",
        "    !wget $source_url\n",
        "    fn = source_url.split('/')[-1]\n",
        "    file_name = \"downloaded_video.\" + fn.split(\".\")[-1]\n",
        "    !mv -f $fn $file_name\n",
        "\n",
        "!cp -r downloaded_video.mp4 video.mp4\n",
        "!rm -rf img\n",
        "!mkdir img\n",
        "clear_output()\n",
        "fps_of_video = int(cv2.VideoCapture(file_name).get(cv2.CAP_PROP_FPS))\n",
        "frames_of_video = int(cv2.VideoCapture(file_name).get(cv2.CAP_PROP_FRAME_COUNT))\n",
        "\n",
        "delete_log = True #@param {type:\"boolean\"}\n",
        "if delete_log == True: clear_output()\n",
        "#@markdown *If necessary, convert video to mp4 here: https://convert-video-online.com*\n",
        "\n",
        "#@markdown *If an error occurs while uploading the file from the computer, run this block again. In addition, it is not recommended to upload video that have spaces or dots in the title.*"
      ],
      "execution_count": 2,
      "outputs": []
    },
    {
      "cell_type": "code",
      "metadata": {
        "id": "yhNQSoQspHR7",
        "cellView": "form"
      },
      "source": [
        "#@title <b><font color=\"red\" size=\"+3\">←</font><font color=\"black\" size=\"+3\"> Split the video into frames</font></b>\n",
        "\n",
        "vidcap = cv2.VideoCapture(file_name)\n",
        "success,image = vidcap.read()\n",
        "count = 0\n",
        "success = True\n",
        "while success:\n",
        "  cv2.imwrite(\"img/frame%09d.jpg\" % count, image)\n",
        "  success,image = vidcap.read()\n",
        "  count += 1"
      ],
      "execution_count": 3,
      "outputs": []
    },
    {
      "cell_type": "code",
      "metadata": {
        "id": "SNBkXnhGoKuC"
      },
      "source": [
        "#@title <b><font color=\"red\" size=\"+3\">←</font><font color=\"black\" size=\"+3\"> Start conversion in anime</font></b>\n",
        "\n",
        "!python test.py --checkpoint_dir /content/AnimeGAN/pppoint --test_dir /content/AnimeGAN/img --style_name H\n",
        "delete_log = True #@param {type:\"boolean\"}\n",
        "if delete_log == True: clear_output()"
      ],
      "execution_count": 4,
      "outputs": []
    },
    {
      "cell_type": "code",
      "metadata": {
        "id": "14SymledtA4c"
      },
      "source": [
        "#@title <b><font color=\"red\" size=\"+3\">←</font><font color=\"black\" size=\"+3\"> Combining frames to video</font></b>\n",
        "\n",
        "frames = []\n",
        "img = os.listdir(\"/content/AnimeGAN/img\")\n",
        "img.sort()\n",
        "for i in img:\n",
        "  frames.append(imageio.imread(\"/content/AnimeGAN/img/\"+i))\n",
        "frames = np.array(frames)\n",
        "imageio.mimsave(\"final.mp4\", frames, fps=fps_of_video)\n",
        "!ffmpeg -i downloaded_video.mp4 -vn -ar 44100 -ac 2 -ab 192K -f mp3 sound.mp3\n",
        "!ffmpeg -i sound.mp3 -i final.mp4 final_audio.mp4\n",
        "\n",
        "print('Сборка завершена')\n",
        "delete_log = True #@param {type:\"boolean\"}\n",
        "if delete_log == True: clear_output()"
      ],
      "execution_count": 11,
      "outputs": []
    },
    {
      "cell_type": "code",
      "metadata": {
        "id": "Yxl4IRhX0gWY",
        "colab": {
          "base_uri": "https://localhost:8080/",
          "height": 17
        },
        "outputId": "79809132-85e0-4f8e-ea7d-c27d7cb706b6"
      },
      "source": [
        "#@title <b><font color=\"red\" size=\"+3\">←</font><font color=\"black\" size=\"+3\"> Download final video</font></b>\n",
        "files.download(\"final_audio.mp4\")"
      ],
      "execution_count": 12,
      "outputs": [
        {
          "output_type": "display_data",
          "data": {
            "text/plain": [
              "<IPython.core.display.Javascript object>"
            ],
            "application/javascript": [
              "\n",
              "    async function download(id, filename, size) {\n",
              "      if (!google.colab.kernel.accessAllowed) {\n",
              "        return;\n",
              "      }\n",
              "      const div = document.createElement('div');\n",
              "      const label = document.createElement('label');\n",
              "      label.textContent = `Downloading \"${filename}\": `;\n",
              "      div.appendChild(label);\n",
              "      const progress = document.createElement('progress');\n",
              "      progress.max = size;\n",
              "      div.appendChild(progress);\n",
              "      document.body.appendChild(div);\n",
              "\n",
              "      const buffers = [];\n",
              "      let downloaded = 0;\n",
              "\n",
              "      const channel = await google.colab.kernel.comms.open(id);\n",
              "      // Send a message to notify the kernel that we're ready.\n",
              "      channel.send({})\n",
              "\n",
              "      for await (const message of channel.messages) {\n",
              "        // Send a message to notify the kernel that we're ready.\n",
              "        channel.send({})\n",
              "        if (message.buffers) {\n",
              "          for (const buffer of message.buffers) {\n",
              "            buffers.push(buffer);\n",
              "            downloaded += buffer.byteLength;\n",
              "            progress.value = downloaded;\n",
              "          }\n",
              "        }\n",
              "      }\n",
              "      const blob = new Blob(buffers, {type: 'application/binary'});\n",
              "      const a = document.createElement('a');\n",
              "      a.href = window.URL.createObjectURL(blob);\n",
              "      a.download = filename;\n",
              "      div.appendChild(a);\n",
              "      a.click();\n",
              "      div.remove();\n",
              "    }\n",
              "  "
            ]
          },
          "metadata": {}
        },
        {
          "output_type": "display_data",
          "data": {
            "text/plain": [
              "<IPython.core.display.Javascript object>"
            ],
            "application/javascript": [
              "download(\"download_d88134e5-3955-4435-b768-527fce0a3e29\", \"final_audio.mp4\", 1438221)"
            ]
          },
          "metadata": {}
        }
      ]
    }
  ]
}